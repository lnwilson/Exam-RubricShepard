{
 "cells": [
  {
   "cell_type": "markdown",
   "metadata": {
    "editable": false
   },
   "source": [
    "Rubric code: Shepard\n",
    "# Take Home Lab Final Exam <font color=red>(60 marks)</font>#\n",
    "* Available April 1, 2020 @ 12:01 AM\n",
    "* Due April 8, 2020 @ 11:59 PM\n",
    "\n",
    "## Objectives: ##\n",
    "To assess student's mastery of using appropriate R commands.\n",
    "\n",
    "## Instructions: ##\n",
    "* You may use the \"<em>R commands so far</em>\" file on moodle.\n",
    "* You may look at the other tutorials, both your solutions and the sample solutions.\n",
    "* You may look up material in your textbook.\n",
    "* You may reference your notes.<br><br>\n",
    "\n",
    "* You may NOT work with another student to complete the exam.\n",
    "* You may NOT ask another student in the class how to answer any question. \n",
    "* You may NOT ask someone outside of the course to help you answer any question.\n",
    "\n",
    "## Assessment: ##\n",
    "* You must show all R commands used to find the solutions.\n",
    "* Marks are assigned for using appropriate R commands and using R for your calculations.\n",
    "* Correctly calculated answers without appropriate R command/calculations shown will be worth 0 marks.\n",
    "\n",
    "## Formulae: ##\n",
    "No formlae are provided for this tutorial.\n",
    "\n",
    "## Tools: ##"
   ]
  },
  {
   "cell_type": "code",
   "execution_count": 6,
   "metadata": {
    "editable": false
   },
   "outputs": [],
   "source": [
    "cdc1000 <- read.csv(\"cdc1000.csv\",header=TRUE)"
   ]
  },
  {
   "cell_type": "markdown",
   "metadata": {
    "editable": false
   },
   "source": [
    "## Data Information: ##\n",
    "\n",
    "### Data Set 1: ###\n",
    "Today we will be using data from the CDC.  \n",
    "\n",
    "The Behavioral Risk Factor Surveillance System (BRFSS) is an annual telephone survey of 350,000 people in the United States. As its name implies, the BRFSS is designed to identify risk factors in the adult population and report emerging health trends. For example, respondents are asked about their diet and weekly physical activity, their HIV/AIDS status, possible tobacco use, and even their level of healthcare coverage. The BRFSS Web site (http://www.cdc.gov/brfss) contains a complete description of the survey, including the research questions that motivate the study and many interesting results derived from the data.\n",
    "\n",
    "While there are a huge number variables in this data set, we will work with a small subset of the variables.<br>The data cdc1000 consists of 1000 randomly selected entries from the larger study described above.\n",
    "\n",
    "#### Name: #### \n",
    "* `cdc1000` - health data from the sample of the BRFSS survey from 2000.\n",
    "\n",
    "#### Variables: ####\n",
    "* `genhlth` - respondents were asked to evaluate their general health, responding either 4-excellent, 3-very good, 2-good, 1-fair or 0-poor\n",
    "* `exerany` - whether the respondent exercised in the past month (recent) or did not (not_recent).\n",
    "* `hlthplan` - whether the respondent had some form of health coverage (insured) or did not (uninsured).\n",
    "* `smoke100` - whether the respondent had smoked at least 100 cigarettes in her lifetime (smoker) or has not (nonsmoker).\n",
    "* `height` - the respondent's height measured in inches.\n",
    "* `weight` - the respondent's weight measured in pounds.\n",
    "* `wtdesire` - the respondent's desired weight measured in pounds.\n",
    "* `age` - the respondent's age measured in years.\n",
    "* `gender` - whether the respondent said they were female or male.\n",
    "\n",
    "### Data Set 2: ###\n",
    "A small random sample of observations from the 2000 U.S. Census Data.<br>You have been given a table that was constructed using this data.<br>\n",
    "- the data has not been provided as you will not need it to answer questions.\n",
    "\n",
    "#### Variables: ####\n",
    "* `sex` - Sex with levels: Female and Male.\n",
    "* `race_general` - Race with levels: American Indian or Alaska Native, Black, Chinese, Japanese, Other Asian or Pacific Islander, Two major races, White and Other.\n",
    "\n",
    "#### Table (also displayed in question 4) ####\n",
    "<table><tr><td>\t\t</td><td>\tFemale\t</td><td>\tMale\t</td></tr>\n",
    "<tr><td>\tAmerican Indian or Alaska Native\t</td><td>\t1\t</td><td>\t1\t</td></tr>\n",
    "<tr><td>\tBlack\t</td><td>\t12\t</td><td>\t13\t</td></tr>\n",
    "<tr><td>\tWhite\t</td><td>\t52\t</td><td>\t51\t</td></tr>\n",
    "<tr><td>\tChinese\t</td><td>\t4\t</td><td>\t1\t</td></tr>\n",
    "<tr><td>\tJapanese\t</td><td>\t0\t</td><td>\t1\t</td></tr>\n",
    "<tr><td>\tOther Asian or Pacific Islander\t</td><td>\t1\t</td><td>\t5\t</td></tr>\n",
    "<tr><td>\tTwo major races\t</td><td>\t0\t</td><td>\t3\t</td></tr>\n",
    "<tr><td>\tOther\t</td><td>\t2\t</td><td>\t3\t</td></tr></table>\n",
    "\n",
    "\n",
    "### Data Set 3: ###\n",
    "Height data by country as presented on tall.Life (https://tall.life/)."
   ]
  },
  {
   "cell_type": "markdown",
   "metadata": {
    "editable": false
   },
   "source": [
    "# Question 1 <font color=red>(10 marks)</font>##\n",
    "### Use the `cdc1000` data to complete each of the following tasks using R commands ###\n",
    "* a. Determine the minimum desired weight of the respondents. \n",
    "* b. Determine the age of the respondent with the minimum desired weight.\n",
    "* c. Determine the maximum desired weight of the respondents. \n",
    "* d. Determine the age of the respondent with the maximum desired weight.\n",
    "* e. Determine the range of the desired weights of the respondents.\n",
    "* f. Determine the lower quartile, median, and upper quartile of the desired weights of the respondents.\n",
    "* g. Determine the interquartile range of the desired weights of the respondents.\n",
    "* h. Determine the mean of the desired weights of the respondents in that smoke and are not insured."
   ]
  },
  {
   "cell_type": "code",
   "execution_count": null,
   "metadata": {},
   "outputs": [],
   "source": [
    "This is a code cell, use the + symbol in the menu above to create as many code cells as you need."
   ]
  },
  {
   "cell_type": "markdown",
   "metadata": {
    "editable": false
   },
   "source": [
    "### Answer 1. ##"
   ]
  },
  {
   "cell_type": "markdown",
   "metadata": {},
   "source": [
    "* a. _ \n",
    "* b. _\n",
    "* c. _ \n",
    "* d. _\n",
    "* e. _\n",
    "* f. _\n",
    "* g. _\n",
    "* h. _"
   ]
  },
  {
   "cell_type": "markdown",
   "metadata": {
    "editable": false
   },
   "source": [
    "# Question 2 <font color=red>(9 marks)</font>##\n",
    "### Use the `cdc1000` data to complete each of the following tasks using R commands ###\n",
    "### Label all of the graphics appropriately. ###\n",
    "* a. Make a histogram for the desired weights of the respondents. \n",
    "* b. Make side-by-side boxplots for the desired weights of the female and male respondents. \n",
    "* c. Make a scatterplot for the desired weights and ages of the respondents."
   ]
  },
  {
   "cell_type": "markdown",
   "metadata": {
    "editable": false
   },
   "source": [
    "### Answer 2a. ##"
   ]
  },
  {
   "cell_type": "code",
   "execution_count": null,
   "metadata": {},
   "outputs": [],
   "source": [
    "This is a code cell, use the + symbol in the menu above to create as many code cells as you need."
   ]
  },
  {
   "cell_type": "markdown",
   "metadata": {
    "editable": false
   },
   "source": [
    "### Answer 2b. ##"
   ]
  },
  {
   "cell_type": "code",
   "execution_count": null,
   "metadata": {},
   "outputs": [],
   "source": [
    "This is a code cell, use the + symbol in the menu above to create as many code cells as you need."
   ]
  },
  {
   "cell_type": "markdown",
   "metadata": {
    "editable": false
   },
   "source": [
    "### Answer 2c. ##"
   ]
  },
  {
   "cell_type": "code",
   "execution_count": null,
   "metadata": {},
   "outputs": [],
   "source": [
    "This is a code cell, use the + symbol in the menu above to create as many code cells as you need."
   ]
  },
  {
   "cell_type": "markdown",
   "metadata": {
    "editable": false
   },
   "source": [
    "# Question 3 <font color=red>(10 marks)</font>##\n",
    "### Use the `cdc1000` data to complete each of the following tasks using R commands ###\n",
    "### Label all of the graphics appropriately. ###\n",
    "* a. Make a contingency table for the general health and exercise habits of the respondents.\n",
    "* b. Make a relative frequency table for the general health of the respondents and their exercise habits, split by exercise habits first then general health.\n",
    "* c. Make a stacked barplot for the general health of the respondents with each bar split by their exercise habits. \n",
    "* d. Make a mosaic plot for the general health and exercise habits of the respondents split by their exercise habits first then general health. "
   ]
  },
  {
   "cell_type": "markdown",
   "metadata": {
    "editable": false
   },
   "source": [
    "### Answer 3a. ##"
   ]
  },
  {
   "cell_type": "code",
   "execution_count": null,
   "metadata": {},
   "outputs": [],
   "source": []
  },
  {
   "cell_type": "markdown",
   "metadata": {
    "editable": false
   },
   "source": [
    "### Answer 3b. ##"
   ]
  },
  {
   "cell_type": "code",
   "execution_count": null,
   "metadata": {},
   "outputs": [],
   "source": [
    "This is a code cell, use the + symbol in the menu above to create as many code cells as you need."
   ]
  },
  {
   "cell_type": "markdown",
   "metadata": {
    "editable": false
   },
   "source": [
    "### Answer 3c. ##"
   ]
  },
  {
   "cell_type": "code",
   "execution_count": null,
   "metadata": {},
   "outputs": [],
   "source": [
    "This is a code cell, use the + symbol in the menu above to create as many code cells as you need."
   ]
  },
  {
   "cell_type": "markdown",
   "metadata": {
    "editable": false
   },
   "source": [
    "### Answer 3d. ##"
   ]
  },
  {
   "cell_type": "code",
   "execution_count": null,
   "metadata": {},
   "outputs": [],
   "source": [
    "This is a code cell, use the + symbol in the menu above to create as many code cells as you need."
   ]
  },
  {
   "cell_type": "markdown",
   "metadata": {
    "editable": false
   },
   "source": [
    "# Question 4 <font color=red>(10 marks)</font>##\n",
    "### Use the table below to complete each of the following tasks by using R as your calculator ###\n",
    "<table><tr><td>\t\t</td><td>\tFemale\t</td><td>\tMale\t</td></tr>\n",
    "<tr><td>\tAmerican Indian or Alaska Native\t</td><td>\t1\t</td><td>\t1\t</td></tr>\n",
    "<tr><td>\tBlack\t</td><td>\t12\t</td><td>\t13\t</td></tr>\n",
    "<tr><td>\tWhite\t</td><td>\t52\t</td><td>\t51\t</td></tr>\n",
    "<tr><td>\tChinese\t</td><td>\t4\t</td><td>\t1\t</td></tr>\n",
    "<tr><td>\tJapanese\t</td><td>\t0\t</td><td>\t1\t</td></tr>\n",
    "<tr><td>\tOther Asian or Pacific Islander\t</td><td>\t1\t</td><td>\t5\t</td></tr>\n",
    "<tr><td>\tTwo major races\t</td><td>\t0\t</td><td>\t3\t</td></tr>\n",
    "<tr><td>\tOther\t</td><td>\t2\t</td><td>\t3\t</td></tr></table>\n",
    "\n",
    "\n",
    "Determine the probability that a randomly selected member of this sample will be...\n",
    "* a. ... male.\n",
    "* b. ... not white.\n",
    "* c. ... in the category for Chinese, Japanese, other Asian or Pacific islander.\n",
    "* d. ... black or female.\n",
    "* e. ... black and male.\n",
    "* f. ... other Asian or Pacific Islander given that they are male."
   ]
  },
  {
   "cell_type": "code",
   "execution_count": null,
   "metadata": {},
   "outputs": [],
   "source": [
    "This is a code cell, use the + symbol in the menu above to create as many code cells as you need."
   ]
  },
  {
   "cell_type": "markdown",
   "metadata": {
    "editable": false
   },
   "source": [
    "### Answer 4. ##"
   ]
  },
  {
   "cell_type": "markdown",
   "metadata": {},
   "source": [
    "* a. _ \n",
    "* b. _\n",
    "* c. _ \n",
    "* d. _\n",
    "* e. _\n",
    "* f. _"
   ]
  },
  {
   "cell_type": "markdown",
   "metadata": {
    "editable": false
   },
   "source": [
    "# Question 5 <font color=red>(12 marks)</font>##\n",
    "### Use the information presented below to complete each of the following tasks by using R commands and/or using R as your calculator ###\n",
    "According to the 2016 Canadian census, as of May 10 2016 there were 35,151,728 Canadian citizens and 1,278,365 of them lived in Manitoba.\n",
    "* a. Determine the probability that a randomly selected Canadian lives in Manitoba.\n",
    "* b. Let $X$ be a random variable representing the number of randomly selected Canadians out of a sample of 300 that live in Manitoba then $X$ is a binomial random variable. Give the short form for $X$.\n",
    "* c. Determine the mean of $X$.\n",
    "* d. Determine the standard deviation of $X$.\n",
    "* e. Determine the following probabilities:\n",
    "  * i. $P(X<15)$\n",
    "  * ii. $P(X\\le3)$\n",
    "  * iii. $P(X=6)$\n",
    "  * iv. $P(X\\ge14)$\n",
    "  * v. $P(15<X\\le19)$"
   ]
  },
  {
   "cell_type": "code",
   "execution_count": null,
   "metadata": {},
   "outputs": [],
   "source": [
    "This is a code cell, use the + symbol in the menu above to create as many code cells as you need."
   ]
  },
  {
   "cell_type": "markdown",
   "metadata": {
    "editable": false
   },
   "source": [
    "### Answer 5. ##"
   ]
  },
  {
   "cell_type": "markdown",
   "metadata": {},
   "source": [
    "* a. _ \n",
    "* b. _\n",
    "* c. _ \n",
    "* d. _\n",
    "* e. \n",
    "  * i. _\n",
    "  * ii. _\n",
    "  * iii. _\n",
    "  * iv. _\n",
    "  * v. _"
   ]
  },
  {
   "cell_type": "markdown",
   "metadata": {
    "editable": false
   },
   "source": [
    "# Question 6 <font color=red>(9 marks)</font>##\n",
    "### Use the information presented below to complete each of the following tasks by using R commands and/or using R as your calculator ###\n",
    "According to the website Tall Life, the heights of adult men in Spain are normally distributed with a mean of 173.1 cm and a standard deviation of 7.42 cm. Let $Y$ be a random variable representing the height in cm of men in Spain.\n",
    "* a. Give the short form for $Y$.\n",
    "* b. Determine the following probabilities:\n",
    "  * i. $P(Y<192)$\n",
    "  * ii. $P(Y>189)$\n",
    "  * iii. $P(164<Y<182)$\n",
    "* c. Determine the following values:\n",
    "  * i. The 92th percentile.\n",
    "  * ii. The minimum height to be among the tallest 12% of men in Spain."
   ]
  },
  {
   "cell_type": "code",
   "execution_count": null,
   "metadata": {},
   "outputs": [],
   "source": [
    "This is a code cell, use the + symbol in the menu above to create as many code cells as you need."
   ]
  },
  {
   "cell_type": "markdown",
   "metadata": {
    "editable": false
   },
   "source": [
    "### Answer 6. ##"
   ]
  },
  {
   "cell_type": "markdown",
   "metadata": {},
   "source": [
    "* a. _\n",
    "* b. \n",
    "  * i. _\n",
    "  * ii. _\n",
    "  * iii. _\n",
    "* c. \n",
    "  * i. _\n",
    "  * ii. _"
   ]
  },
  {
   "cell_type": "markdown",
   "metadata": {
    "editable": false
   },
   "source": [
    "---\n",
    "---\n",
    "#### This tutorial is released under a Creative Commons Attribution-ShareAlike 3.0 Unported.\n",
    "\n",
    "This tutorial has been adapted from a lab that  was adapted for OpenIntro by Andrew Bray and Mine Çetinkaya-Rundel from a lab written by Mark Hansen of UCLA Statistics.\n",
    "\n",
    "---\n",
    "---"
   ]
  }
 ],
 "metadata": {
  "kernelspec": {
   "display_name": "R",
   "language": "R",
   "name": "ir"
  },
  "language_info": {
   "codemirror_mode": "r",
   "file_extension": ".r",
   "mimetype": "text/x-r-source",
   "name": "R",
   "pygments_lexer": "r",
   "version": "3.6.1"
  }
 },
 "nbformat": 4,
 "nbformat_minor": 2
}
